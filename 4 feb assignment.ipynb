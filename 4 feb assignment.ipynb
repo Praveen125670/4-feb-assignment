{
 "cells": [
  {
   "cell_type": "code",
   "execution_count": null,
   "id": "fd69877a-4ec5-4295-abd1-f01fc7a7fac7",
   "metadata": {},
   "outputs": [],
   "source": [
    "### Q1"
   ]
  },
  {
   "cell_type": "code",
   "execution_count": null,
   "id": "62c2d7d6-1add-4607-b5fc-ee48ec9f59f0",
   "metadata": {},
   "outputs": [],
   "source": [
    "Q1. Create a python program to sort the given list of tuples based on integer value using a\n",
    "lambda function. \n",
    "\n",
    "[('Sachin Tendulkar', 34357), ('Ricky Ponting', 27483), ('Jack Kallis', 25534), ('Virat Kohli', 24936)]"
   ]
  },
  {
   "cell_type": "code",
   "execution_count": 2,
   "id": "4fd9ec24-5b25-4b21-99b3-4ba813fc3cdc",
   "metadata": {},
   "outputs": [],
   "source": [
    "runs=[('Sachin Tendulkar', 34357), ('Ricky Ponting', 27483), ('Jack Kallis', 25534), ('Virat Kohli', 24936)]"
   ]
  },
  {
   "cell_type": "code",
   "execution_count": 3,
   "id": "46d3b934-72b1-43e2-9133-9503866a80cf",
   "metadata": {},
   "outputs": [],
   "source": [
    "runs.sort(key = lambda x: x[1])"
   ]
  },
  {
   "cell_type": "code",
   "execution_count": 4,
   "id": "7e5091f6-5432-4364-80f7-1610c0bbd314",
   "metadata": {},
   "outputs": [
    {
     "data": {
      "text/plain": [
       "[('Virat Kohli', 24936),\n",
       " ('Jack Kallis', 25534),\n",
       " ('Ricky Ponting', 27483),\n",
       " ('Sachin Tendulkar', 34357)]"
      ]
     },
     "execution_count": 4,
     "metadata": {},
     "output_type": "execute_result"
    }
   ],
   "source": [
    "runs"
   ]
  },
  {
   "cell_type": "code",
   "execution_count": null,
   "id": "5b07d8e6-52cf-458d-a88c-622b099b56b5",
   "metadata": {},
   "outputs": [],
   "source": []
  },
  {
   "cell_type": "code",
   "execution_count": null,
   "id": "1e93af56-a961-4849-a313-5cba37795df6",
   "metadata": {},
   "outputs": [],
   "source": [
    "### Q2 "
   ]
  },
  {
   "cell_type": "code",
   "execution_count": null,
   "id": "5f7ec879-647f-478e-a699-d5a83cf2a62d",
   "metadata": {},
   "outputs": [],
   "source": [
    "Q2. Write a Python Program to find the squares of all the numbers in the given list of integers using\n",
    "lambda and map functions.\n",
    "\n",
    "[1, 2, 3, 4, 5, 6, 7, 8, 9, 10]"
   ]
  },
  {
   "cell_type": "code",
   "execution_count": 5,
   "id": "6375553c-579c-4ae5-b934-60e1150fbd78",
   "metadata": {},
   "outputs": [],
   "source": [
    "l=[1, 2, 3, 4, 5, 6, 7, 8, 9, 10]"
   ]
  },
  {
   "cell_type": "code",
   "execution_count": 6,
   "id": "db8c747e-18b8-4cb4-bcb5-ef6a7989a623",
   "metadata": {},
   "outputs": [
    {
     "data": {
      "text/plain": [
       "[1, 4, 9, 16, 25, 36, 49, 64, 81, 100]"
      ]
     },
     "execution_count": 6,
     "metadata": {},
     "output_type": "execute_result"
    }
   ],
   "source": [
    "list(map(lambda x: x**2,l))"
   ]
  },
  {
   "cell_type": "code",
   "execution_count": null,
   "id": "4db7cc07-85ac-455f-bec7-92d3bb4af92d",
   "metadata": {},
   "outputs": [],
   "source": []
  },
  {
   "cell_type": "code",
   "execution_count": null,
   "id": "5ddbce38-43b9-4a8f-bf54-6e63c88ba848",
   "metadata": {},
   "outputs": [],
   "source": [
    "### Q3"
   ]
  },
  {
   "cell_type": "code",
   "execution_count": null,
   "id": "3ae3047f-7dd7-422e-8c7e-022794fcdde2",
   "metadata": {},
   "outputs": [],
   "source": [
    "Q3. Write a python program to convert the given list of integers into a tuple of strings. Use map and\n",
    "lambda functions\n",
    "\n",
    "\n",
    "Given String: [1, 2, 3, 4, 5, 6, 7, 8, 9, 10]\n",
    "\n",
    "Expected output: ('1', '2', '3', '4', '5', '6', '7', '8', '9', '10')"
   ]
  },
  {
   "cell_type": "code",
   "execution_count": 1,
   "id": "bb501554-6a85-42f1-a1a9-2878715df30a",
   "metadata": {},
   "outputs": [],
   "source": [
    "l=[1, 2, 3, 4, 5, 6, 7, 8, 9, 10]"
   ]
  },
  {
   "cell_type": "code",
   "execution_count": 2,
   "id": "1ed7500c-7364-4776-b4ba-4850eb5971c6",
   "metadata": {},
   "outputs": [
    {
     "data": {
      "text/plain": [
       "((1, 2, 3, 4, 5, 6, 7, 8, 9, 10),\n",
       " (1, 2, 3, 4, 5, 6, 7, 8, 9, 10),\n",
       " (1, 2, 3, 4, 5, 6, 7, 8, 9, 10),\n",
       " (1, 2, 3, 4, 5, 6, 7, 8, 9, 10),\n",
       " (1, 2, 3, 4, 5, 6, 7, 8, 9, 10),\n",
       " (1, 2, 3, 4, 5, 6, 7, 8, 9, 10),\n",
       " (1, 2, 3, 4, 5, 6, 7, 8, 9, 10),\n",
       " (1, 2, 3, 4, 5, 6, 7, 8, 9, 10),\n",
       " (1, 2, 3, 4, 5, 6, 7, 8, 9, 10),\n",
       " (1, 2, 3, 4, 5, 6, 7, 8, 9, 10))"
      ]
     },
     "execution_count": 2,
     "metadata": {},
     "output_type": "execute_result"
    }
   ],
   "source": [
    "tuple(map(lambda x: tuple(l),l))"
   ]
  },
  {
   "cell_type": "code",
   "execution_count": null,
   "id": "60f67714-9826-43b9-a2ca-badc9bc7793e",
   "metadata": {},
   "outputs": [],
   "source": []
  },
  {
   "cell_type": "code",
   "execution_count": null,
   "id": "1c0cc480-8d9a-4779-9ca8-9e95741de838",
   "metadata": {},
   "outputs": [],
   "source": [
    "### Q4 "
   ]
  },
  {
   "cell_type": "code",
   "execution_count": null,
   "id": "86f8a183-c453-4889-af5e-758072edcb7c",
   "metadata": {},
   "outputs": [],
   "source": [
    "Q4.  Write a python program using reduce function to compute the product of a list containing numbers\n",
    "from 1 to 25."
   ]
  },
  {
   "cell_type": "code",
   "execution_count": 3,
   "id": "2521487a-8000-4c1a-8477-ba4e7b78ac92",
   "metadata": {},
   "outputs": [],
   "source": [
    "from functools import reduce"
   ]
  },
  {
   "cell_type": "code",
   "execution_count": 5,
   "id": "7d7ea49a-cd01-433d-85b9-8de148741cb0",
   "metadata": {},
   "outputs": [],
   "source": [
    "l2=[1,2,3,4,5,6,7,8,9,10,11,12,13,14,15,16,17,18,19,20,21,22,23,24,25]"
   ]
  },
  {
   "cell_type": "code",
   "execution_count": 6,
   "id": "b9171d82-e1ce-47f5-b015-ec8709780ea7",
   "metadata": {},
   "outputs": [
    {
     "data": {
      "text/plain": [
       "15511210043330985984000000"
      ]
     },
     "execution_count": 6,
     "metadata": {},
     "output_type": "execute_result"
    }
   ],
   "source": [
    "reduce(lambda x,y : x*y,l2)"
   ]
  },
  {
   "cell_type": "code",
   "execution_count": null,
   "id": "6bdf327f-ecba-4584-86dc-3326381a6aba",
   "metadata": {},
   "outputs": [],
   "source": []
  },
  {
   "cell_type": "code",
   "execution_count": null,
   "id": "317347d3-804d-49de-ae43-8fabebd52cf4",
   "metadata": {},
   "outputs": [],
   "source": [
    "### Q5"
   ]
  },
  {
   "cell_type": "code",
   "execution_count": null,
   "id": "6c1709a8-a249-4d51-865c-ae1e068028a1",
   "metadata": {},
   "outputs": [],
   "source": [
    "Q5. Write a python program to filter the numbers in a given list that are divisible by 2 and 3 using the\n",
    "filter function.\n",
    "\n",
    "[2, 3, 6, 9, 27, 60, 90, 120, 55, 46]"
   ]
  },
  {
   "cell_type": "code",
   "execution_count": 8,
   "id": "7b2b7cb7-6906-4534-b5dc-7f2b2399239d",
   "metadata": {},
   "outputs": [],
   "source": [
    "l3=[2, 3, 6, 9, 27, 60, 90, 120, 55, 46]"
   ]
  },
  {
   "cell_type": "code",
   "execution_count": 9,
   "id": "bb77d097-47d4-4d46-8dea-8b773064a69c",
   "metadata": {},
   "outputs": [
    {
     "data": {
      "text/plain": [
       "[6, 60, 90, 120]"
      ]
     },
     "execution_count": 9,
     "metadata": {},
     "output_type": "execute_result"
    }
   ],
   "source": [
    "list(filter(lambda x: x%2 ==0 and x%3==0,l3))"
   ]
  },
  {
   "cell_type": "code",
   "execution_count": null,
   "id": "1d93fc7b-4ffa-43c1-a1e0-e9ee5731ec44",
   "metadata": {},
   "outputs": [],
   "source": []
  },
  {
   "cell_type": "code",
   "execution_count": null,
   "id": "8e2dbbfe-b563-4d64-98e1-8596c31e13b2",
   "metadata": {},
   "outputs": [],
   "source": [
    "### Q6"
   ]
  },
  {
   "cell_type": "code",
   "execution_count": null,
   "id": "8d66cccd-d5c5-4fb3-8ba8-225c38bdc2a8",
   "metadata": {},
   "outputs": [],
   "source": [
    "Q6. Write a python program to find palindromes in the given list of strings using lambda and filter\n",
    "function.\n",
    "\n",
    "['python', 'php', 'aba', 'radar', 'level']"
   ]
  },
  {
   "cell_type": "code",
   "execution_count": 10,
   "id": "733c4998-30fb-498c-ad9e-f7785d7b59d3",
   "metadata": {},
   "outputs": [],
   "source": [
    "l4=['python', 'php', 'aba', 'radar', 'level']"
   ]
  },
  {
   "cell_type": "code",
   "execution_count": 13,
   "id": "c671a0a3-c277-4783-8104-fcb5264e970c",
   "metadata": {},
   "outputs": [
    {
     "data": {
      "text/plain": [
       "['php', 'aba', 'radar', 'level']"
      ]
     },
     "execution_count": 13,
     "metadata": {},
     "output_type": "execute_result"
    }
   ],
   "source": [
    "list(filter(lambda x: (x == \"\".join(reversed(x))),l4 ))"
   ]
  },
  {
   "cell_type": "code",
   "execution_count": null,
   "id": "d94b0081-df2c-4453-ad23-8a1df672a8f6",
   "metadata": {},
   "outputs": [],
   "source": []
  }
 ],
 "metadata": {
  "kernelspec": {
   "display_name": "Python 3 (ipykernel)",
   "language": "python",
   "name": "python3"
  },
  "language_info": {
   "codemirror_mode": {
    "name": "ipython",
    "version": 3
   },
   "file_extension": ".py",
   "mimetype": "text/x-python",
   "name": "python",
   "nbconvert_exporter": "python",
   "pygments_lexer": "ipython3",
   "version": "3.10.8"
  }
 },
 "nbformat": 4,
 "nbformat_minor": 5
}
